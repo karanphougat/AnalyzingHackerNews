{
 "cells": [
  {
   "cell_type": "markdown",
   "metadata": {},
   "source": [
    "# Analyzing Hacker News Posts"
   ]
  },
  {
   "cell_type": "markdown",
   "metadata": {},
   "source": [
    "## Introduction"
   ]
  },
  {
   "cell_type": "markdown",
   "metadata": {},
   "source": [
    "Hacker News is a site started by the startup incubator Y Combinator, where user-submitted stories (known as \"posts\") receive votes and comments, similar to reddit. Hacker News is extremely popular in technology and startup circles, and posts that make it to the top of the Hacker News listings can get hundreds of thousands of visitors as a result.\n",
    "\n",
    "Users submit `Ask HN` posts to ask the Hacker News community a specific question. Likewise, users submit `Show HN` posts to show the Hacker News community a project, product, or just generally something interesting.0"
   ]
  },
  {
   "cell_type": "markdown",
   "metadata": {},
   "source": [
    "## Dataset"
   ]
  },
  {
   "cell_type": "markdown",
   "metadata": {},
   "source": [
    "You can find the data set [here](https://www.kaggle.com/hacker-news/hacker-news-posts), but the dataset have been reduced from 300,000 rows to approximately 20,000 rows (available in the repository) by removing all submissions that didn't receive any comments and then randomly sampling from the remaining submissions. (Courtesy: Dataquest)"
   ]
  },
  {
   "cell_type": "markdown",
   "metadata": {},
   "source": [
    "## Problem Statement"
   ]
  },
  {
   "cell_type": "markdown",
   "metadata": {},
   "source": [
    "- Do `Ask HN` or `Show HN` receive more comments on average?\n",
    "- Do posts created at a certain time receive more comments on average?"
   ]
  },
  {
   "cell_type": "markdown",
   "metadata": {},
   "source": [
    "## Reading and Exploring the dataset"
   ]
  },
  {
   "cell_type": "code",
   "execution_count": 1,
   "metadata": {
    "scrolled": true
   },
   "outputs": [
    {
     "name": "stdout",
     "output_type": "stream",
     "text": [
      "['id', 'title', 'url', 'num_points', 'num_comments', 'author', 'created_at']\n",
      "\n",
      "\n",
      "[['12224879', 'Interactive Dynamic Video', 'http://www.interactivedynamicvideo.com/', '386', '52', 'ne0phyte', '8/4/2016 11:52'], ['10975351', 'How to Use Open Source and Shut the Fuck Up at the Same Time', 'http://hueniverse.com/2016/01/26/how-to-use-open-source-and-shut-the-fuck-up-at-the-same-time/', '39', '10', 'josep2', '1/26/2016 19:30'], ['11964716', \"Florida DJs May Face Felony for April Fools' Water Joke\", 'http://www.thewire.com/entertainment/2013/04/florida-djs-april-fools-water-joke/63798/', '2', '1', 'vezycash', '6/23/2016 22:20'], ['11919867', 'Technology ventures: From Idea to Enterprise', 'https://www.amazon.com/Technology-Ventures-Enterprise-Thomas-Byers/dp/0073523429', '3', '1', 'hswarna', '6/17/2016 0:01'], ['10301696', 'Note by Note: The Making of Steinway L1037 (2007)', 'http://www.nytimes.com/2007/11/07/movies/07stein.html?_r=0', '8', '2', 'walterbell', '9/30/2015 4:12']]\n"
     ]
    }
   ],
   "source": [
    "import csv\n",
    "\n",
    "file = open(\"hacker_news.csv\")\n",
    "hn = list(csv.reader(file))\n",
    "\n",
    "# Exploring header row\n",
    "header = hn[0]\n",
    "print(header)\n",
    "\n",
    "hn = hn[1:]\n",
    "\n",
    "# Testing the dataset\n",
    "print('\\n')\n",
    "print(hn[:5])"
   ]
  },
  {
   "cell_type": "markdown",
   "metadata": {},
   "source": [
    "## Extracting `Ask HN` or `Show HN` posts"
   ]
  },
  {
   "cell_type": "markdown",
   "metadata": {},
   "source": [
    "Since we're only concerned with post titles beginning with `Ask H` or `Show HN`, we'll create new lists of lists containing just the data for those titles.\n",
    "\n",
    "We will just need to find posts whose title starts with the above two phrases."
   ]
  },
  {
   "cell_type": "code",
   "execution_count": 2,
   "metadata": {},
   "outputs": [
    {
     "name": "stdout",
     "output_type": "stream",
     "text": [
      "Ask HN Posts: 1744\n",
      "Show HN Posts: 1162\n",
      "Other Posts: 17194\n"
     ]
    }
   ],
   "source": [
    "ask_posts = []\n",
    "show_posts = []\n",
    "other_posts = []\n",
    "\n",
    "for row in hn:\n",
    "    title = row[1]\n",
    "    if title.lower().startswith('ask hn'):\n",
    "        ask_posts.append(row)\n",
    "    elif title.lower().startswith('show hn'):\n",
    "        show_posts.append(row)\n",
    "    else:\n",
    "        other_posts.append(row)\n",
    "        \n",
    "# Number of posts in each category\n",
    "print(\"Ask HN Posts:\", len(ask_posts))\n",
    "print(\"Show HN Posts:\", len(show_posts))\n",
    "print(\"Other Posts:\", len(other_posts))"
   ]
  },
  {
   "cell_type": "markdown",
   "metadata": {},
   "source": [
    "## Calculting average number of comments on `Ask HN` or `Show HN` posts"
   ]
  },
  {
   "cell_type": "markdown",
   "metadata": {},
   "source": [
    "This brings us to our first question:\n",
    "\n",
    "Do `Ask HN` or `Show HN` receive more comments on average?\n",
    "\n",
    "Let's find out."
   ]
  },
  {
   "cell_type": "code",
   "execution_count": 3,
   "metadata": {},
   "outputs": [
    {
     "name": "stdout",
     "output_type": "stream",
     "text": [
      "Average comments on Ask HN Posts: 14\n",
      "Average comments on Show HN Posts: 10\n",
      "Average comments on All other Posts: 27\n"
     ]
    }
   ],
   "source": [
    "def average_comments(posts):\n",
    "    total_comments = 0\n",
    "    for post in posts:\n",
    "        num_comments = int(post[4])\n",
    "        total_comments += num_comments\n",
    "        \n",
    "    avg_comments = total_comments/len(posts)\n",
    "    return round(avg_comments)\n",
    "\n",
    "print(\"Average comments on Ask HN Posts:\",average_comments(ask_posts))\n",
    "print(\"Average comments on Show HN Posts:\",average_comments(show_posts))\n",
    "print(\"Average comments on All other Posts:\",average_comments(other_posts))"
   ]
  },
  {
   "cell_type": "markdown",
   "metadata": {},
   "source": [
    "As we can observe from above:\n",
    "- Other posts have more average number of comments.\n",
    "- **However, on average, `Ask HN` attract more comments than `Show HN`**"
   ]
  },
  {
   "cell_type": "markdown",
   "metadata": {},
   "source": [
    "## Finding number of comments by hour"
   ]
  },
  {
   "cell_type": "markdown",
   "metadata": {},
   "source": [
    "We'll determine if we can maximize the amount of comments an ask post receives by creating it at a certain time. First, we'll find the amount of ask posts created during each hour of day, along with the number of comments those posts received. Then, we'll calculate the average amount of comments ask posts created at each hour of the day receive."
   ]
  },
  {
   "cell_type": "markdown",
   "metadata": {},
   "source": [
    "Below we are aming two dictionaries from our list: one contains the number of ask posts created during each hour of the day and other contains the corresponding number of comments ask posts created at each hour received."
   ]
  },
  {
   "cell_type": "code",
   "execution_count": 4,
   "metadata": {
    "scrolled": false
   },
   "outputs": [],
   "source": [
    "import datetime as dt\n",
    "\n",
    "counts_by_hour = {}\n",
    "comments_by_hour = {}\n",
    "date_format = \"%m/%d/%Y %H:%M\"\n",
    "\n",
    "def posts_by_hour(posts):\n",
    "    for post in posts:\n",
    "        num_comments = int(post[4])\n",
    "        date = post[6]\n",
    "        time = dt.datetime.strptime(date, date_format).strftime(\"%H\")\n",
    "\n",
    "        if time not in counts_by_hour:\n",
    "            counts_by_hour[time] = 1\n",
    "            comments_by_hour[time] = num_comments\n",
    "        else:\n",
    "            counts_by_hour[time] += 1\n",
    "            comments_by_hour[time] += num_comments\n",
    "\n",
    "posts_by_hour(ask_posts)"
   ]
  },
  {
   "cell_type": "markdown",
   "metadata": {},
   "source": [
    "We have just created a function that counts total number of posts and total number of comments in an hour and store them in a dictionary.\n",
    "\n",
    "Now, as our second goal, we will have to find out average number of comments on posts by hour."
   ]
  },
  {
   "cell_type": "code",
   "execution_count": 5,
   "metadata": {
    "scrolled": false
   },
   "outputs": [
    {
     "name": "stdout",
     "output_type": "stream",
     "text": [
      "Average Comments by Hour:\n"
     ]
    },
    {
     "data": {
      "text/plain": [
       "[[39, '15'],\n",
       " [24, '02'],\n",
       " [22, '20'],\n",
       " [17, '16'],\n",
       " [16, '21'],\n",
       " [15, '13'],\n",
       " [13, '18'],\n",
       " [13, '14'],\n",
       " [13, '10'],\n",
       " [11, '19'],\n",
       " [11, '17'],\n",
       " [11, '11'],\n",
       " [11, '01'],\n",
       " [10, '08'],\n",
       " [10, '05'],\n",
       " [9, '12'],\n",
       " [9, '06'],\n",
       " [8, '23'],\n",
       " [8, '07'],\n",
       " [8, '03'],\n",
       " [8, '00'],\n",
       " [7, '22'],\n",
       " [7, '04'],\n",
       " [6, '09']]"
      ]
     },
     "execution_count": 5,
     "metadata": {},
     "output_type": "execute_result"
    }
   ],
   "source": [
    "avg_comments_by_hour = []\n",
    "\n",
    "for hr in comments_by_hour:\n",
    "    avg_comments_by_hour.append([round(comments_by_hour[hr]/counts_by_hour[hr]), hr])\n",
    "\n",
    "print(\"Average Comments by Hour:\")\n",
    "sorted(avg_comments_by_hour, reverse=True)"
   ]
  },
  {
   "cell_type": "markdown",
   "metadata": {},
   "source": [
    "Looking at the above out it is safe to say that:\n",
    "\n",
    "- 15:00 has 39 average comments per post\n",
    "- 02:00 has 24 average comments per post\n",
    "- 20:00 has 22 average comments per post\n",
    "- 16:00 has 17 average comments per post\n",
    "\n",
    "There's about a 60% increase in the number of comments between the hours with the highest and second highest average number of comments."
   ]
  },
  {
   "cell_type": "markdown",
   "metadata": {},
   "source": [
    "## Conclusion"
   ]
  },
  {
   "cell_type": "markdown",
   "metadata": {},
   "source": [
    "Let's answer the questions \n",
    "**Do `Ask HN` or `Show HN` receive more comments on average?**\n",
    "\n",
    "`Ask HN` posts received 14 comments per post as compared to `Show HN` posts that received 10 comments per post.\n",
    "\n",
    "**Do posts created at a certain time receive more comments on average?**\n",
    "\n",
    "Yes. `Ask HN` posts posted between 15:00 and 16:00 EST receied most number of comments."
   ]
  }
 ],
 "metadata": {
  "kernelspec": {
   "display_name": "Python 3",
   "language": "python",
   "name": "python3"
  },
  "language_info": {
   "codemirror_mode": {
    "name": "ipython",
    "version": 3
   },
   "file_extension": ".py",
   "mimetype": "text/x-python",
   "name": "python",
   "nbconvert_exporter": "python",
   "pygments_lexer": "ipython3",
   "version": "3.8.2"
  }
 },
 "nbformat": 4,
 "nbformat_minor": 2
}
